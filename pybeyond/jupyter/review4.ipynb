{
 "cells": [
  {
   "cell_type": "markdown",
   "id": "f6222d01",
   "metadata": {},
   "source": [
    "# Review 4"
   ]
  },
  {
   "cell_type": "markdown",
   "id": "19f83411",
   "metadata": {},
   "source": [
    "## Simple"
   ]
  },
  {
   "cell_type": "markdown",
   "id": "e7385cd9",
   "metadata": {},
   "source": [
    "#### Prep"
   ]
  },
  {
   "cell_type": "code",
   "execution_count": 1,
   "id": "cd33e052",
   "metadata": {},
   "outputs": [],
   "source": [
    "import numpy as np\n",
    "\n",
    "np.random.seed(12345) # this ensures any random nums have an arbitrary seed\n",
    "np.set_printoptions(precision=4) # all outputs below will be up to 4 decimal places"
   ]
  },
  {
   "cell_type": "markdown",
   "id": "cac673b0",
   "metadata": {},
   "source": [
    "#### Compute the mean, standard deviation and variance of a given array"
   ]
  },
  {
   "cell_type": "code",
   "execution_count": 2,
   "id": "1506e353",
   "metadata": {},
   "outputs": [
    {
     "name": "stdout",
     "output_type": "stream",
     "text": [
      "For this array [0 1 2 3 4 5 6 7 8 9]\n",
      "Avg  4.5\n",
      "Mean  4.5\n",
      "Std Dev  2.8722813232690143\n",
      "Variance  8.25\n"
     ]
    }
   ],
   "source": [
    "arr = np.arange(10) # make an array\n",
    "print('For this array', arr)\n",
    "print('Avg ', np.average(arr))\n",
    "print('Mean ', np.mean(arr))\n",
    "print('Std Dev ', np.std(arr))\n",
    "print('Variance ', np.var(arr))"
   ]
  },
  {
   "cell_type": "markdown",
   "id": "018c5147",
   "metadata": {},
   "source": [
    "#### Compute cross-correlation of two given arrays (use np.cov)"
   ]
  },
  {
   "cell_type": "code",
   "execution_count": 3,
   "id": "85d5c28d",
   "metadata": {},
   "outputs": [
    {
     "data": {
      "text/plain": [
       "array([[4., 4.],\n",
       "       [4., 4.]])"
      ]
     },
     "execution_count": 3,
     "metadata": {},
     "output_type": "execute_result"
    }
   ],
   "source": [
    "x = np.array([0, 2, 4])\n",
    "y = np.array([6, 8, 10])\n",
    "np.cov(x, y)"
   ]
  },
  {
   "cell_type": "markdown",
   "id": "1e2108f2",
   "metadata": {},
   "source": [
    "#### Count the number of occurrences of each value in an array of integers (use np.bincount)"
   ]
  },
  {
   "cell_type": "code",
   "execution_count": 4,
   "id": "d1f445d9",
   "metadata": {},
   "outputs": [
    {
     "data": {
      "text/plain": [
       "array([1, 3, 1, 0, 1, 0, 1, 1, 0, 0, 0, 0, 0, 0, 0, 0, 0, 0, 0, 0, 1],\n",
       "      dtype=int64)"
      ]
     },
     "execution_count": 4,
     "metadata": {},
     "output_type": "execute_result"
    }
   ],
   "source": [
    "arr1 = np.array([0, 1, 6, 1, 4, 1, 20, 2, 7])\n",
    "np.bincount(arr1)"
   ]
  },
  {
   "cell_type": "markdown",
   "id": "762f763b",
   "metadata": {},
   "source": [
    "## Medium"
   ]
  },
  {
   "cell_type": "markdown",
   "id": "d8abbc5d",
   "metadata": {},
   "source": [
    "#### Prep"
   ]
  },
  {
   "cell_type": "code",
   "execution_count": 5,
   "id": "a102d465",
   "metadata": {},
   "outputs": [],
   "source": [
    "import matplotlib.pyplot as plt\n",
    "from numpy import random"
   ]
  },
  {
   "cell_type": "markdown",
   "id": "2cbd2235",
   "metadata": {},
   "source": [
    "#### Compute and display the histogram of numbers against a set of 'bins' (explore with more complex data)"
   ]
  },
  {
   "cell_type": "code",
   "execution_count": 6,
   "id": "c0633caa",
   "metadata": {},
   "outputs": [
    {
     "data": {
      "text/plain": [
       "array([[12, 15, 11, 14, 19, 15, 12],\n",
       "       [11, 16, 11, 19, 17, 16, 10],\n",
       "       [12, 19, 11, 12, 16, 17, 17]])"
      ]
     },
     "execution_count": 6,
     "metadata": {},
     "output_type": "execute_result"
    }
   ],
   "source": [
    "temp = random.randint(10,20, size=(3,7))\n",
    "temp"
   ]
  },
  {
   "cell_type": "code",
   "execution_count": 7,
   "id": "4c598760",
   "metadata": {},
   "outputs": [
    {
     "data": {
      "image/png": "[encoded data removed]",
      "text/plain": [
       "<Figure size 432x288 with 1 Axes>"
      ]
     },
     "metadata": {
      "needs_background": "light"
     },
     "output_type": "display_data"
    }
   ],
   "source": [
    "grpbins = np.array([10, 11, 12, 13, 14, 15, 16, 17, 18, 19, 20])\n",
    "plt.hist(temp.reshape(21,1), bins=grpbins)\n",
    "plt.show()"
   ]
  },
  {
   "cell_type": "markdown",
   "id": "6ebb615e",
   "metadata": {},
   "source": [
    "#### Create a 3×6 numpy array of boolean 'True' values, then transpose it"
   ]
  },
  {
   "cell_type": "code",
   "execution_count": 9,
   "id": "4e9376fa",
   "metadata": {},
   "outputs": [
    {
     "data": {
      "text/plain": [
       "(array([[ True,  True,  True,  True,  True,  True],\n",
       "        [ True,  True,  True,  True,  True,  True],\n",
       "        [ True,  True,  True,  True,  True,  True]]),\n",
       " array([[ True,  True,  True],\n",
       "        [ True,  True,  True],\n",
       "        [ True,  True,  True],\n",
       "        [ True,  True,  True],\n",
       "        [ True,  True,  True],\n",
       "        [ True,  True,  True]]))"
      ]
     },
     "execution_count": 9,
     "metadata": {},
     "output_type": "execute_result"
    }
   ],
   "source": [
    "arr1 = np.arange(18)\n",
    "arr1 = arr1.reshape(3,6)\n",
    "arr2 = np.arange(18)\n",
    "arr2 = arr2.reshape(3,6)\n",
    "boolarr = arr1 == arr2\n",
    "boolarr, boolarr.T"
   ]
  },
  {
   "cell_type": "markdown",
   "id": "5c19e7f3",
   "metadata": {},
   "source": [
    "#### Create an array of the integers 1 to 1000, then populate another array from the even numbers in that array"
   ]
  },
  {
   "cell_type": "code",
   "execution_count": 10,
   "id": "306d519d",
   "metadata": {},
   "outputs": [
    {
     "data": {
      "text/plain": [
       "array([   2,    4,    6,    8,   10,   12,   14,   16,   18,   20,   22,\n",
       "         24,   26,   28,   30,   32,   34,   36,   38,   40,   42,   44,\n",
       "         46,   48,   50,   52,   54,   56,   58,   60,   62,   64,   66,\n",
       "         68,   70,   72,   74,   76,   78,   80,   82,   84,   86,   88,\n",
       "         90,   92,   94,   96,   98,  100,  102,  104,  106,  108,  110,\n",
       "        112,  114,  116,  118,  120,  122,  124,  126,  128,  130,  132,\n",
       "        134,  136,  138,  140,  142,  144,  146,  148,  150,  152,  154,\n",
       "        156,  158,  160,  162,  164,  166,  168,  170,  172,  174,  176,\n",
       "        178,  180,  182,  184,  186,  188,  190,  192,  194,  196,  198,\n",
       "        200,  202,  204,  206,  208,  210,  212,  214,  216,  218,  220,\n",
       "        222,  224,  226,  228,  230,  232,  234,  236,  238,  240,  242,\n",
       "        244,  246,  248,  250,  252,  254,  256,  258,  260,  262,  264,\n",
       "        266,  268,  270,  272,  274,  276,  278,  280,  282,  284,  286,\n",
       "        288,  290,  292,  294,  296,  298,  300,  302,  304,  306,  308,\n",
       "        310,  312,  314,  316,  318,  320,  322,  324,  326,  328,  330,\n",
       "        332,  334,  336,  338,  340,  342,  344,  346,  348,  350,  352,\n",
       "        354,  356,  358,  360,  362,  364,  366,  368,  370,  372,  374,\n",
       "        376,  378,  380,  382,  384,  386,  388,  390,  392,  394,  396,\n",
       "        398,  400,  402,  404,  406,  408,  410,  412,  414,  416,  418,\n",
       "        420,  422,  424,  426,  428,  430,  432,  434,  436,  438,  440,\n",
       "        442,  444,  446,  448,  450,  452,  454,  456,  458,  460,  462,\n",
       "        464,  466,  468,  470,  472,  474,  476,  478,  480,  482,  484,\n",
       "        486,  488,  490,  492,  494,  496,  498,  500,  502,  504,  506,\n",
       "        508,  510,  512,  514,  516,  518,  520,  522,  524,  526,  528,\n",
       "        530,  532,  534,  536,  538,  540,  542,  544,  546,  548,  550,\n",
       "        552,  554,  556,  558,  560,  562,  564,  566,  568,  570,  572,\n",
       "        574,  576,  578,  580,  582,  584,  586,  588,  590,  592,  594,\n",
       "        596,  598,  600,  602,  604,  606,  608,  610,  612,  614,  616,\n",
       "        618,  620,  622,  624,  626,  628,  630,  632,  634,  636,  638,\n",
       "        640,  642,  644,  646,  648,  650,  652,  654,  656,  658,  660,\n",
       "        662,  664,  666,  668,  670,  672,  674,  676,  678,  680,  682,\n",
       "        684,  686,  688,  690,  692,  694,  696,  698,  700,  702,  704,\n",
       "        706,  708,  710,  712,  714,  716,  718,  720,  722,  724,  726,\n",
       "        728,  730,  732,  734,  736,  738,  740,  742,  744,  746,  748,\n",
       "        750,  752,  754,  756,  758,  760,  762,  764,  766,  768,  770,\n",
       "        772,  774,  776,  778,  780,  782,  784,  786,  788,  790,  792,\n",
       "        794,  796,  798,  800,  802,  804,  806,  808,  810,  812,  814,\n",
       "        816,  818,  820,  822,  824,  826,  828,  830,  832,  834,  836,\n",
       "        838,  840,  842,  844,  846,  848,  850,  852,  854,  856,  858,\n",
       "        860,  862,  864,  866,  868,  870,  872,  874,  876,  878,  880,\n",
       "        882,  884,  886,  888,  890,  892,  894,  896,  898,  900,  902,\n",
       "        904,  906,  908,  910,  912,  914,  916,  918,  920,  922,  924,\n",
       "        926,  928,  930,  932,  934,  936,  938,  940,  942,  944,  946,\n",
       "        948,  950,  952,  954,  956,  958,  960,  962,  964,  966,  968,\n",
       "        970,  972,  974,  976,  978,  980,  982,  984,  986,  988,  990,\n",
       "        992,  994,  996,  998, 1000])"
      ]
     },
     "execution_count": 10,
     "metadata": {},
     "output_type": "execute_result"
    }
   ],
   "source": [
    "arr1 = np.arange(1,1001)\n",
    "evenarr = []\n",
    "for i in range(0,1000):\n",
    "    if arr1[i]%2 == 0:\n",
    "        evenarr.append(arr1[i])\n",
    "\n",
    "evenarr = np.array(evenarr)\n",
    "evenarr"
   ]
  },
  {
   "cell_type": "markdown",
   "id": "61c77749",
   "metadata": {},
   "source": [
    "#### Populate another array with just the primes from 1 to 1000"
   ]
  },
  {
   "cell_type": "markdown",
   "id": "bc2320f3",
   "metadata": {},
   "source": [
    "###### Time this operation using ever larger sets of data (e.g. 1 to 1000000, which took 1.76 sec on my machine)"
   ]
  },
  {
   "cell_type": "code",
   "execution_count": 11,
   "id": "5be28008",
   "metadata": {},
   "outputs": [
    {
     "data": {
      "text/plain": [
       "array([  2,   3,   5,   7,  11,  13,  17,  19,  23,  29,  31,  37,  41,\n",
       "        43,  47,  53,  59,  61,  67,  71,  73,  79,  83,  89,  97, 101,\n",
       "       103, 107, 109, 113, 127, 131, 137, 139, 149, 151, 157, 163, 167,\n",
       "       173, 179, 181, 191, 193, 197, 199, 211, 223, 227, 229, 233, 239,\n",
       "       241, 251, 257, 263, 269, 271, 277, 281, 283, 293, 307, 311, 313,\n",
       "       317, 331, 337, 347, 349, 353, 359, 367, 373, 379, 383, 389, 397,\n",
       "       401, 409, 419, 421, 431, 433, 439, 443, 449, 457, 461, 463, 467,\n",
       "       479, 487, 491, 499, 503, 509, 521, 523, 541, 547, 557, 563, 569,\n",
       "       571, 577, 587, 593, 599, 601, 607, 613, 617, 619, 631, 641, 643,\n",
       "       647, 653, 659, 661, 673, 677, 683, 691, 701, 709, 719, 727, 733,\n",
       "       739, 743, 751, 757, 761, 769, 773, 787, 797, 809, 811, 821, 823,\n",
       "       827, 829, 839, 853, 857, 859, 863, 877, 881, 883, 887, 907, 911,\n",
       "       919, 929, 937, 941, 947, 953, 967, 971, 977, 983, 991, 997])"
      ]
     },
     "execution_count": 11,
     "metadata": {},
     "output_type": "execute_result"
    }
   ],
   "source": [
    "arr1 = np.arange(1,1001)\n",
    "primearr = []\n",
    "\n",
    "def is_prime(n):\n",
    "    status = True\n",
    "    if n < 2:\n",
    "        status = False\n",
    "    else:\n",
    "        for i in range(2,n):\n",
    "            if n % i == 0:\n",
    "                status = False\n",
    "    return status\n",
    "\n",
    "for i in range(0,1000):\n",
    "    if is_prime(arr1[i]):\n",
    "        primearr.append(arr1[i])\n",
    "\n",
    "primearr = np.array(primearr)\n",
    "primearr"
   ]
  },
  {
   "cell_type": "markdown",
   "id": "16d7e1c9",
   "metadata": {},
   "source": [
    "#### Make an array that contains the positions where elements of a and b match"
   ]
  },
  {
   "cell_type": "code",
   "execution_count": 16,
   "id": "3c2b4f80",
   "metadata": {},
   "outputs": [
    {
     "data": {
      "text/plain": [
       "[1, 3, 5, 7]"
      ]
     },
     "execution_count": 16,
     "metadata": {},
     "output_type": "execute_result"
    }
   ],
   "source": [
    "a = np.array([1,2,3,2,3,4,3,4,5,6])\n",
    "b = np.array([7,2,10,2,7,4,9,4,9,8])\n",
    "\n",
    "matcharr = []\n",
    "i = 0\n",
    "\n",
    "while i <= a.size-1:\n",
    "    if a[i]==b[i]:\n",
    "        matcharr.append(i)\n",
    "    i+=1\n",
    "\n",
    "matcharr"
   ]
  },
  {
   "cell_type": "markdown",
   "id": "d55f8905",
   "metadata": {},
   "source": [
    "## Difficult"
   ]
  },
  {
   "cell_type": "markdown",
   "id": "15509fde",
   "metadata": {},
   "source": [
    "#### Use zip to combine all the following Irish places with their country or origin (that is, ie)"
   ]
  },
  {
   "cell_type": "markdown",
   "id": "6b31ab4c",
   "metadata": {},
   "source": [
    "###### Use numpy to make an array of the results"
   ]
  },
  {
   "cell_type": "code",
   "execution_count": 18,
   "id": "1fb68ccc",
   "metadata": {},
   "outputs": [
    {
     "name": "stdout",
     "output_type": "stream",
     "text": [
      "[['Dublin' 'IE']]\n"
     ]
    }
   ],
   "source": [
    "cities = np.array([\"Dublin\",\"Cork\",\"Limerick\",\"Galway\",\"Waterford\",\"Drogheda\",\"Kilkenny\",\"Wexford\",\"Sligo\",\"Clonmel\",\"Dundalk\",\"Bray\",\"Ennis\",\"Tralee\",\"Carlow\",\"Naas\",\"Athlone\",\"Letterkenny\",\"Tullamore\",\"Killarney\",\"Arklow\",\"Cobh\",\"Castlebar\",\"Midleton\",\"Mallow\",\"Ballina\",\"Enniscorthy\",\"Wicklow\",\"Cavan\",\"Athenry\",\"Longford\",\"Dungarvan\",\"Nenagh\",\"Trim\",\"Thurles\",\"Youghal\",\"Monaghan\",\"Buncrana\",\"Ballinasloe\",\"Fermoy\",\"Westport\",\"Carrick-on-Suir\",\"Birr\",\"Tipperary\",\"Carrickmacross\",\"Kinsale\",\"Listowel\",\"Clonakilty\",\"Cashel\",\"Macroom\",\"Castleblayney\",\"Kilrush\",\"Skibbereen\",\"Bundoran\",\"Templemore\",\"Clones\",\"Newbridge\",\"Mullingar\",\"Balbriggan\",\"Greystones\",\"Leixlip\",\"Tramore\",\"Shannon\",\"Gorey\",\"Tuam\",\"Edenderry\",\"Bandon\",\"Loughrea\",\"Ardee\",\"Mountmellick\",\"Bantry\",\"Boyle\",\"Ballyshannon\",\"Cootehill\",\"Ballybay\",\"Belturbet\",\"Lismore\",\"Kilkee\",\"Granard\"])\n",
    "country = np.array([\"IE\"])\n",
    "\n",
    "c = np.array(list(zip(cities,country)))\n",
    "\n",
    "print(c)"
   ]
  },
  {
   "cell_type": "code",
   "execution_count": null,
   "id": "dc020839",
   "metadata": {},
   "outputs": [],
   "source": []
  }
 ],
 "metadata": {
  "kernelspec": {
   "display_name": "Python 3",
   "language": "python",
   "name": "python3"
  },
  "language_info": {
   "codemirror_mode": {
    "name": "ipython",
    "version": 3
   },
   "file_extension": ".py",
   "mimetype": "text/x-python",
   "name": "python",
   "nbconvert_exporter": "python",
   "pygments_lexer": "ipython3",
   "version": "3.8.8"
  }
 },
 "nbformat": 4,
 "nbformat_minor": 5
}
