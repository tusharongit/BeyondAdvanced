{
 "cells": [
  {
   "cell_type": "markdown",
   "id": "c372cf89",
   "metadata": {},
   "source": [
    "## Using Jupyter Notebooks"
   ]
  },
  {
   "cell_type": "code",
   "execution_count": 1,
   "id": "d855c086",
   "metadata": {},
   "outputs": [
    {
     "data": {
      "text/plain": [
       "0.42857142857142855"
      ]
     },
     "execution_count": 1,
     "metadata": {},
     "output_type": "execute_result"
    }
   ],
   "source": [
    "# this is a code cell\n",
    "a = 3\n",
    "b = 7\n",
    "a/b"
   ]
  },
  {
   "cell_type": "markdown",
   "id": "8832df10",
   "metadata": {},
   "source": [
    "#### shortcuts\n",
    "ctrl+enter runs the current cell\n",
    "shift+enter runs the current cell and creates a new cell below"
   ]
  },
  {
   "cell_type": "code",
   "execution_count": 6,
   "id": "9e003a4f",
   "metadata": {},
   "outputs": [
    {
     "name": "stdout",
     "output_type": "stream",
     "text": [
      "español\n"
     ]
    },
    {
     "data": {
      "text/plain": [
       "('español', str, b'espa\\xc3\\xb1ol', bytes)"
      ]
     },
     "execution_count": 6,
     "metadata": {},
     "output_type": "execute_result"
    }
   ],
   "source": [
    "v = 'español'\n",
    "print(v) # print uses __str__\n",
    "v_utf = v.encode('utf-8')\n",
    "v, type(v), v_utf, type(v_utf) # the final line of a cell may output (print) a response using __repr__"
   ]
  },
  {
   "cell_type": "code",
   "execution_count": 8,
   "id": "8d8feb11",
   "metadata": {},
   "outputs": [],
   "source": [
    "# we can declare functions\n",
    "def cube(n):\n",
    "    return n*n*n"
   ]
  },
  {
   "cell_type": "code",
   "execution_count": 9,
   "id": "2e72136c",
   "metadata": {},
   "outputs": [
    {
     "data": {
      "text/plain": [
       "27"
      ]
     },
     "execution_count": 9,
     "metadata": {},
     "output_type": "execute_result"
    }
   ],
   "source": [
    "cube(3)"
   ]
  },
  {
   "cell_type": "code",
   "execution_count": 10,
   "id": "30ece413",
   "metadata": {},
   "outputs": [
    {
     "data": {
      "text/plain": [
       "-27"
      ]
     },
     "execution_count": 10,
     "metadata": {},
     "output_type": "execute_result"
    }
   ],
   "source": [
    "cube(-3)"
   ]
  },
  {
   "cell_type": "code",
   "execution_count": 11,
   "id": "bed1ad66",
   "metadata": {},
   "outputs": [
    {
     "data": {
      "text/plain": [
       "'español'"
      ]
     },
     "execution_count": 11,
     "metadata": {},
     "output_type": "execute_result"
    }
   ],
   "source": [
    "v"
   ]
  },
  {
   "cell_type": "code",
   "execution_count": 12,
   "id": "b5adc470",
   "metadata": {},
   "outputs": [
    {
     "data": {
      "text/plain": [
       "(7, 1, 2, (1, 2, 3, 4, 5, 6, 7))"
      ]
     },
     "execution_count": 12,
     "metadata": {},
     "output_type": "execute_result"
    }
   ],
   "source": [
    "# unpacking tuples\n",
    "t = (4,5,6,7)\n",
    "a,c,b,d = t\n",
    "sew = 1,2,3,4,5,6,7\n",
    "x, y, *rest = sew\n",
    "d, x, y, sew # this is a tuple"
   ]
  }
 ],
 "metadata": {
  "kernelspec": {
   "display_name": "Python 3",
   "language": "python",
   "name": "python3"
  },
  "language_info": {
   "codemirror_mode": {
    "name": "ipython",
    "version": 3
   },
   "file_extension": ".py",
   "mimetype": "text/x-python",
   "name": "python",
   "nbconvert_exporter": "python",
   "pygments_lexer": "ipython3",
   "version": "3.8.8"
  }
 },
 "nbformat": 4,
 "nbformat_minor": 5
}
