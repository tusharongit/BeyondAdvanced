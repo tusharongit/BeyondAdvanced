{
 "cells": [
  {
   "cell_type": "markdown",
   "id": "9bb06b4b",
   "metadata": {},
   "source": [
    "## Pandas - Python and Numerical Data Analysis"
   ]
  },
  {
   "cell_type": "code",
   "execution_count": 7,
   "id": "0c8a89f1",
   "metadata": {},
   "outputs": [],
   "source": [
    "import numpy as np\n",
    "import pandas as pd\n",
    "import matplotlib.pyplot as plt\n",
    "\n",
    "from pandas import Series, DataFrame"
   ]
  },
  {
   "cell_type": "code",
   "execution_count": 8,
   "id": "a477f127",
   "metadata": {},
   "outputs": [
    {
     "data": {
      "text/plain": [
       "('s >',\n",
       " 0    4\n",
       " 1    7\n",
       " 2   -5\n",
       " 3    3\n",
       " dtype: int64,\n",
       " 's.values >',\n",
       " array([ 4,  7, -5,  3], dtype=int64),\n",
       " 's.index >',\n",
       " RangeIndex(start=0, stop=4, step=1))"
      ]
     },
     "execution_count": 8,
     "metadata": {},
     "output_type": "execute_result"
    }
   ],
   "source": [
    "# Pandas has additional data structures (beyond array and arange)\n",
    "# Series and DataFrame\n",
    "\n",
    "s = pd.Series([4, 7, -5, 3])\n",
    "'s >', s, 's.values >', s.values, 's.index >', s.index"
   ]
  },
  {
   "cell_type": "code",
   "execution_count": 9,
   "id": "3872b279",
   "metadata": {},
   "outputs": [
    {
     "data": {
      "text/plain": [
       "('s >',\n",
       " 0    4\n",
       " 1    7\n",
       " 2   -5\n",
       " 3    3\n",
       " dtype: int64,\n",
       " 's.values >',\n",
       " array([ 4,  7, -5,  3], dtype=int64),\n",
       " 's.index >',\n",
       " RangeIndex(start=0, stop=4, step=1))"
      ]
     },
     "execution_count": 9,
     "metadata": {},
     "output_type": "execute_result"
    }
   ],
   "source": [
    "s = Series([4, 7, -5, 3]) # without pd.\n",
    "'s >', s, 's.values >', s.values, 's.index >', s.index"
   ]
  },
  {
   "cell_type": "code",
   "execution_count": 10,
   "id": "fa0e6620",
   "metadata": {},
   "outputs": [
    {
     "data": {
      "text/plain": [
       "('s2 >',\n",
       " d    4\n",
       " b    7\n",
       " a   -5\n",
       " c    3\n",
       " dtype: int64,\n",
       " 's2.values >',\n",
       " array([ 4,  7, -5,  3], dtype=int64),\n",
       " 's2.index >',\n",
       " Index(['d', 'b', 'a', 'c'], dtype='object'))"
      ]
     },
     "execution_count": 10,
     "metadata": {},
     "output_type": "execute_result"
    }
   ],
   "source": [
    "s2 = Series([4, 7, -5, 3], index=['d', 'b', 'a', 'c'])\n",
    "'s2 >', s2, 's2.values >', s2.values, 's2.index >', s2.index"
   ]
  },
  {
   "cell_type": "code",
   "execution_count": 12,
   "id": "eb0d3203",
   "metadata": {},
   "outputs": [
    {
     "data": {
      "text/plain": [
       "-5"
      ]
     },
     "execution_count": 12,
     "metadata": {},
     "output_type": "execute_result"
    }
   ],
   "source": [
    "s2['a']"
   ]
  },
  {
   "cell_type": "code",
   "execution_count": 13,
   "id": "dbfe1d32",
   "metadata": {},
   "outputs": [
    {
     "data": {
      "text/plain": [
       "d    4\n",
       "b    7\n",
       "c    3\n",
       "dtype: int64"
      ]
     },
     "execution_count": 13,
     "metadata": {},
     "output_type": "execute_result"
    }
   ],
   "source": [
    "# we can filter members\n",
    "s2[s2>0]"
   ]
  },
  {
   "cell_type": "code",
   "execution_count": 14,
   "id": "9bcace05",
   "metadata": {},
   "outputs": [
    {
     "data": {
      "text/plain": [
       "d     64\n",
       "b    343\n",
       "a   -125\n",
       "c     27\n",
       "dtype: int64"
      ]
     },
     "execution_count": 14,
     "metadata": {},
     "output_type": "execute_result"
    }
   ],
   "source": [
    "# obvious math\n",
    "s2**3 # cubes"
   ]
  },
  {
   "cell_type": "code",
   "execution_count": 15,
   "id": "7f7d6d4c",
   "metadata": {},
   "outputs": [
    {
     "name": "stdout",
     "output_type": "stream",
     "text": [
      "True\n",
      "False\n"
     ]
    }
   ],
   "source": [
    "# check presence\n",
    "print ('b' in s2) # check if 'b' is spresent in s2\n",
    "print ('f' in s2) # check if 'f' is spresent in s2"
   ]
  },
  {
   "cell_type": "code",
   "execution_count": 17,
   "id": "4d1f366c",
   "metadata": {},
   "outputs": [
    {
     "data": {
      "text/plain": [
       "Ohio      35000\n",
       "Texas     71000\n",
       "Oregon    16000\n",
       "Utah       5000\n",
       "dtype: int64"
      ]
     },
     "execution_count": 17,
     "metadata": {},
     "output_type": "execute_result"
    }
   ],
   "source": [
    "# convert Python structures into Series\n",
    "s_dict = {'Ohio':35000, 'Texas':71000, 'Oregon':16000, 'Utah':5000}\n",
    "s3 = pd.Series(s_dict)\n",
    "s3"
   ]
  },
  {
   "cell_type": "code",
   "execution_count": 19,
   "id": "fae870ae",
   "metadata": {},
   "outputs": [
    {
     "data": {
      "text/plain": [
       "California        NaN\n",
       "Ohio          35000.0\n",
       "Oregon        16000.0\n",
       "Texas         71000.0\n",
       "Utah           5000.0\n",
       "dtype: float64"
      ]
     },
     "execution_count": 19,
     "metadata": {},
     "output_type": "execute_result"
    }
   ],
   "source": [
    "states = ['California', 'Ohio', 'Oregon', 'Texas','Utah']\n",
    "s4 = Series(s_dict, index=states)\n",
    "s4"
   ]
  },
  {
   "cell_type": "code",
   "execution_count": null,
   "id": "91ee8950",
   "metadata": {},
   "outputs": [],
   "source": []
  }
 ],
 "metadata": {
  "kernelspec": {
   "display_name": "Python 3",
   "language": "python",
   "name": "python3"
  },
  "language_info": {
   "codemirror_mode": {
    "name": "ipython",
    "version": 3
   },
   "file_extension": ".py",
   "mimetype": "text/x-python",
   "name": "python",
   "nbconvert_exporter": "python",
   "pygments_lexer": "ipython3",
   "version": "3.8.8"
  }
 },
 "nbformat": 4,
 "nbformat_minor": 5
}
