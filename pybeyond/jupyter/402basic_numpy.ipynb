{
 "cells": [
  {
   "cell_type": "markdown",
   "id": "02ebe2c5",
   "metadata": {},
   "source": [
    "## Numpy Basics: Arrays and Vector Computation"
   ]
  },
  {
   "cell_type": "code",
   "execution_count": 1,
   "id": "59847068",
   "metadata": {},
   "outputs": [],
   "source": [
    "import numpy as np # no need to pip install, already bundled with Anaconda\n",
    "\n",
    "np.random.seed(12345) # this ensures any random nums have an arbitrary seed\n",
    "np.set_printoptions(precision=4) # all outputs below will be up to 4 decimal places"
   ]
  },
  {
   "cell_type": "code",
   "execution_count": 2,
   "id": "34bff95c",
   "metadata": {},
   "outputs": [
    {
     "name": "stdout",
     "output_type": "stream",
     "text": [
      "1.23456\n"
     ]
    }
   ],
   "source": [
    "c = 1.23456\n",
    "print(c) # without numpy"
   ]
  },
  {
   "cell_type": "code",
   "execution_count": 3,
   "id": "f868fb2a",
   "metadata": {},
   "outputs": [
    {
     "data": {
      "text/plain": [
       "array([     0,      1,      2, ..., 999997, 999998, 999999])"
      ]
     },
     "execution_count": 3,
     "metadata": {},
     "output_type": "execute_result"
    }
   ],
   "source": [
    "# arange ie array-range is a data structure in numpy\n",
    "my_ar = np.arange(1000000)\n",
    "my_ar\n",
    "#type(my_ar) # a-range returns an n-dimensional array"
   ]
  },
  {
   "cell_type": "markdown",
   "id": "3c27786d",
   "metadata": {},
   "source": [
    "### numpy arrays are efficient partly becuase they allow only one data type"
   ]
  },
  {
   "cell_type": "code",
   "execution_count": 4,
   "id": "28c4b0bd",
   "metadata": {},
   "outputs": [
    {
     "name": "stdout",
     "output_type": "stream",
     "text": [
      "Wall time: 32.9 ms\n",
      "Wall time: 1.47 s\n"
     ]
    }
   ],
   "source": [
    "# explore the perf of a numpy array vs a normal python range\n",
    "py_list = list(range(1000000)) # 1 mil\n",
    "# jupyter has an immediate syntax to measure time taken to run a command\n",
    "%time for i in range(10): my_ar2 = my_ar*2 # multiply each arange num by 2\n",
    "%time for i in range(10): py_list2 = [x*2 for x in py_list]"
   ]
  },
  {
   "cell_type": "code",
   "execution_count": 5,
   "id": "e77b7055",
   "metadata": {},
   "outputs": [
    {
     "data": {
      "text/plain": [
       "(array([[-0.2047,  0.4789, -0.5194],\n",
       "        [-0.5557,  1.9658,  1.3934]]),\n",
       " array([[-0.6141,  1.4368, -1.5583],\n",
       "        [-1.6672,  5.8973,  4.1802]]))"
      ]
     },
     "execution_count": 5,
     "metadata": {},
     "output_type": "execute_result"
    }
   ],
   "source": [
    "# arrays can be multi-dimennsional\n",
    "data = np.random.randn(2,3) # a 2x3 array\n",
    "data, data*3 # more than one output will be returned as a tuple"
   ]
  },
  {
   "cell_type": "code",
   "execution_count": 6,
   "id": "dd0bfbc6",
   "metadata": {},
   "outputs": [
    {
     "data": {
      "text/plain": [
       "((2, 3), dtype('float64'))"
      ]
     },
     "execution_count": 6,
     "metadata": {},
     "output_type": "execute_result"
    }
   ],
   "source": [
    "# arrays have shape and type\n",
    "data.shape, data.dtype"
   ]
  },
  {
   "cell_type": "code",
   "execution_count": 7,
   "id": "0e60a3c8",
   "metadata": {},
   "outputs": [
    {
     "data": {
      "text/plain": [
       "((2, 4), dtype('int32'), 2)"
      ]
     },
     "execution_count": 7,
     "metadata": {},
     "output_type": "execute_result"
    }
   ],
   "source": [
    "d2 = [[7,6,5,4],[-2,-3,-4,-5]] # list of lists\n",
    "ar3 = np.array(d2)\n",
    "ar3.shape, ar3.dtype, ar3.ndim"
   ]
  },
  {
   "cell_type": "markdown",
   "id": "eee3259b",
   "metadata": {},
   "source": [
    "### numpy has several constrcutors for arrays"
   ]
  },
  {
   "cell_type": "code",
   "execution_count": 8,
   "id": "1772846e",
   "metadata": {},
   "outputs": [
    {
     "data": {
      "text/plain": [
       "array([[[0., 0., 0., 0., 0., 0.],\n",
       "        [0., 0., 0., 0., 0., 0.],\n",
       "        [0., 0., 0., 0., 0., 0.],\n",
       "        [0., 0., 0., 0., 0., 0.]],\n",
       "\n",
       "       [[0., 0., 0., 0., 0., 0.],\n",
       "        [0., 0., 0., 0., 0., 0.],\n",
       "        [0., 0., 0., 0., 0., 0.],\n",
       "        [0., 0., 0., 0., 0., 0.]],\n",
       "\n",
       "       [[0., 0., 0., 0., 0., 0.],\n",
       "        [0., 0., 0., 0., 0., 0.],\n",
       "        [0., 0., 0., 0., 0., 0.],\n",
       "        [0., 0., 0., 0., 0., 0.]]])"
      ]
     },
     "execution_count": 8,
     "metadata": {},
     "output_type": "execute_result"
    }
   ],
   "source": [
    "z = np.zeros((3,4,6)) # 3 arrays of 4x6, 3-dim array of zeros, there is no limit on how mnay dimensions\n",
    "z"
   ]
  },
  {
   "cell_type": "code",
   "execution_count": 9,
   "id": "617476fe",
   "metadata": {},
   "outputs": [
    {
     "data": {
      "text/plain": [
       "array([[[6.2304e-307, 4.6730e-307, 1.6912e-306],\n",
       "        [1.8692e-306, 1.7802e-306, 1.4242e-306],\n",
       "        [1.3796e-306, 1.6022e-306, 1.2461e-306]],\n",
       "\n",
       "       [[9.3460e-307, 1.2461e-306, 1.1126e-306],\n",
       "        [1.6022e-306, 1.5132e-306, 9.3461e-307],\n",
       "        [1.8692e-306, 1.2461e-306, 1.4241e-306]]])"
      ]
     },
     "execution_count": 9,
     "metadata": {},
     "output_type": "execute_result"
    }
   ],
   "source": [
    "e = np.empty((2,3,3)) # numpy claims an untagged/ unused part of memory and calls it an empty array\n",
    "e"
   ]
  },
  {
   "cell_type": "code",
   "execution_count": 10,
   "id": "f68e89cb",
   "metadata": {},
   "outputs": [
    {
     "data": {
      "text/plain": [
       "(dtype('float32'), array([1., 2., 3.], dtype=float32))"
      ]
     },
     "execution_count": 10,
     "metadata": {},
     "output_type": "execute_result"
    }
   ],
   "source": [
    "# we can force a data type\n",
    "a1 = np.array([1,2,3], dtype = np.float32)\n",
    "a1.dtype, a1"
   ]
  },
  {
   "cell_type": "code",
   "execution_count": 11,
   "id": "87a7b174",
   "metadata": {},
   "outputs": [
    {
     "data": {
      "text/plain": [
       "dtype('float64')"
      ]
     },
     "execution_count": 11,
     "metadata": {},
     "output_type": "execute_result"
    }
   ],
   "source": [
    "n_s = np.array(['1.25','9.6','-42'], dtype=np.string_)\n",
    "n_s.dtype # 4-byte string\n",
    "n_f = n_s.astype(float) # typecasting\n",
    "n_f.dtype"
   ]
  },
  {
   "cell_type": "code",
   "execution_count": 12,
   "id": "eb61cf92",
   "metadata": {},
   "outputs": [
    {
     "name": "stderr",
     "output_type": "stream",
     "text": [
      "<ipython-input-12-d12109d2f737>:2: RuntimeWarning: overflow encountered in power\n",
      "  e ** n_f\n"
     ]
    },
    {
     "data": {
      "text/plain": [
       "array([[[ 0.,  0., inf],\n",
       "        [ 0.,  0., inf],\n",
       "        [ 0.,  0., inf]],\n",
       "\n",
       "       [[ 0.,  0., inf],\n",
       "        [ 0.,  0., inf],\n",
       "        [ 0.,  0., inf]]])"
      ]
     },
     "execution_count": 12,
     "metadata": {},
     "output_type": "execute_result"
    }
   ],
   "source": [
    "# math operations between 2 arrays\n",
    "e ** n_f"
   ]
  },
  {
   "cell_type": "code",
   "execution_count": 13,
   "id": "70a0aa29",
   "metadata": {},
   "outputs": [
    {
     "data": {
      "text/plain": [
       "array([[[ True,  True, False],\n",
       "        [ True,  True, False],\n",
       "        [ True,  True, False]],\n",
       "\n",
       "       [[ True,  True, False],\n",
       "        [ True,  True, False],\n",
       "        [ True,  True, False]]])"
      ]
     },
     "execution_count": 13,
     "metadata": {},
     "output_type": "execute_result"
    }
   ],
   "source": [
    "e < n_f"
   ]
  },
  {
   "cell_type": "markdown",
   "id": "4d23f1cd",
   "metadata": {},
   "source": [
    "### we can slice arrays much like slicing other python collections"
   ]
  },
  {
   "cell_type": "code",
   "execution_count": 14,
   "id": "af6fabcd",
   "metadata": {},
   "outputs": [
    {
     "data": {
      "text/plain": [
       "array([1, 4, 7])"
      ]
     },
     "execution_count": 14,
     "metadata": {},
     "output_type": "execute_result"
    }
   ],
   "source": [
    "a = np.arange(10)\n",
    "a[5:8] # start : stopbefore\n",
    "a[1:9:3] # start : stopbefore : step"
   ]
  },
  {
   "cell_type": "code",
   "execution_count": 15,
   "id": "61b17894",
   "metadata": {},
   "outputs": [
    {
     "data": {
      "text/plain": [
       "(array([ 0,  1,  2,  3,  4,  5, -9,  7,  8,  9]), array([ 5, -9,  7,  8]))"
      ]
     },
     "execution_count": 15,
     "metadata": {},
     "output_type": "execute_result"
    }
   ],
   "source": [
    "a_s = a[5:9] # a reference to a part of the array\n",
    "a[6] = -9 # mutate the original\n",
    "a, a_s"
   ]
  },
  {
   "cell_type": "code",
   "execution_count": 16,
   "id": "d62cc550",
   "metadata": {},
   "outputs": [
    {
     "data": {
      "text/plain": [
       "array([ 0,  1,  2,  3,  4,  5, -9,  7,  8,  9])"
      ]
     },
     "execution_count": 16,
     "metadata": {},
     "output_type": "execute_result"
    }
   ],
   "source": [
    "# if we dont want references, we can create copies\n",
    "b = a.copy()\n",
    "b"
   ]
  },
  {
   "cell_type": "code",
   "execution_count": 17,
   "id": "ce9c55fb",
   "metadata": {},
   "outputs": [
    {
     "data": {
      "text/plain": [
       "(array([ 0,  1,  2,  3,  4,  5, -9, 99,  8,  9]),\n",
       " array([ 0,  1,  2,  3,  4,  5, -9,  7,  8,  9]),\n",
       " array([ 5, -9, 99,  8]))"
      ]
     },
     "execution_count": 17,
     "metadata": {},
     "output_type": "execute_result"
    }
   ],
   "source": [
    "a[7]=99\n",
    "a, b, a_s"
   ]
  },
  {
   "cell_type": "markdown",
   "id": "22c2b10c",
   "metadata": {},
   "source": [
    "### using indexing"
   ]
  },
  {
   "cell_type": "code",
   "execution_count": 18,
   "id": "d51d3b66",
   "metadata": {},
   "outputs": [
    {
     "data": {
      "text/plain": [
       "array([[ 0.0929,  0.2817,  0.769 ],\n",
       "       [ 1.2464,  1.0072, -1.2962],\n",
       "       [ 0.275 ,  0.2289,  1.3529],\n",
       "       [ 0.8864, -2.0016, -0.3718]])"
      ]
     },
     "execution_count": 18,
     "metadata": {},
     "output_type": "execute_result"
    }
   ],
   "source": [
    "names = np.array(['Amy', 'Beater', 'Cathy', 'Deidre'])\n",
    "data = np.random.randn(4,3)\n",
    "data"
   ]
  },
  {
   "cell_type": "code",
   "execution_count": 19,
   "id": "a53272a6",
   "metadata": {},
   "outputs": [
    {
     "data": {
      "text/plain": [
       "array([ True, False, False, False])"
      ]
     },
     "execution_count": 19,
     "metadata": {},
     "output_type": "execute_result"
    }
   ],
   "source": [
    "names == 'Amy'"
   ]
  },
  {
   "cell_type": "code",
   "execution_count": 20,
   "id": "c6b5ec07",
   "metadata": {},
   "outputs": [
    {
     "data": {
      "text/plain": [
       "array([False, False,  True,  True])"
      ]
     },
     "execution_count": 20,
     "metadata": {},
     "output_type": "execute_result"
    }
   ],
   "source": [
    "names >='Cathy'"
   ]
  },
  {
   "cell_type": "code",
   "execution_count": 21,
   "id": "d9f7f003",
   "metadata": {},
   "outputs": [
    {
     "data": {
      "text/plain": [
       "array([[ 1.2464,  1.0072, -1.2962]])"
      ]
     },
     "execution_count": 21,
     "metadata": {},
     "output_type": "execute_result"
    }
   ],
   "source": [
    "# datasets can be used to filter relevant and related data\n",
    "data[names=='Beater'] # data[False, True, False, False] returns data[1]"
   ]
  },
  {
   "cell_type": "markdown",
   "id": "47c0b2b7",
   "metadata": {},
   "source": [
    "### correlation is not causation!"
   ]
  },
  {
   "cell_type": "markdown",
   "id": "56745c99",
   "metadata": {},
   "source": [
    "## Re-shaping Data"
   ]
  },
  {
   "cell_type": "code",
   "execution_count": 22,
   "id": "47e6b384",
   "metadata": {},
   "outputs": [
    {
     "data": {
      "text/plain": [
       "array([ 0,  1,  2,  3,  4,  5,  6,  7,  8,  9, 10, 11, 12, 13, 14, 15, 16,\n",
       "       17, 18, 19, 20, 21, 22, 23, 24, 25, 26, 27, 28, 29, 30, 31])"
      ]
     },
     "execution_count": 22,
     "metadata": {},
     "output_type": "execute_result"
    }
   ],
   "source": [
    "# most operations in numpy and Pandas are not persistent\n",
    "arr = np.arange(32) # one-dim array\n",
    "arr"
   ]
  },
  {
   "cell_type": "code",
   "execution_count": 23,
   "id": "ecf09122",
   "metadata": {},
   "outputs": [
    {
     "data": {
      "text/plain": [
       "array([[ 0,  1,  2,  3],\n",
       "       [ 4,  5,  6,  7],\n",
       "       [ 8,  9, 10, 11],\n",
       "       [12, 13, 14, 15],\n",
       "       [16, 17, 18, 19],\n",
       "       [20, 21, 22, 23],\n",
       "       [24, 25, 26, 27],\n",
       "       [28, 29, 30, 31]])"
      ]
     },
     "execution_count": 23,
     "metadata": {},
     "output_type": "execute_result"
    }
   ],
   "source": [
    "arr.reshape(8,4)"
   ]
  },
  {
   "cell_type": "code",
   "execution_count": 24,
   "id": "3f6a8cad",
   "metadata": {},
   "outputs": [
    {
     "data": {
      "text/plain": [
       "array([ 0,  1,  2,  3,  4,  5,  6,  7,  8,  9, 10, 11, 12, 13, 14, 15, 16,\n",
       "       17, 18, 19, 20, 21, 22, 23, 24, 25, 26, 27, 28, 29, 30, 31])"
      ]
     },
     "execution_count": 24,
     "metadata": {},
     "output_type": "execute_result"
    }
   ],
   "source": [
    "arr # arr.reshape did not persist result back into arr, did not mutate"
   ]
  },
  {
   "cell_type": "code",
   "execution_count": 25,
   "id": "94581cad",
   "metadata": {},
   "outputs": [
    {
     "data": {
      "text/plain": [
       "(array([ 0,  1,  2,  3,  4,  5,  6,  7,  8,  9, 10, 11, 12, 13, 14, 15, 16,\n",
       "        17, 18, 19, 20, 21, 22, 23, 24, 25, 26, 27, 28, 29, 30, 31]),\n",
       " array([[ 0,  1,  2,  3],\n",
       "        [ 4,  5,  6,  7],\n",
       "        [ 8,  9, 10, 11],\n",
       "        [12, 13, 14, 15],\n",
       "        [16, 17, 18, 19],\n",
       "        [20, 21, 22, 23],\n",
       "        [24, 25, 26, 27],\n",
       "        [28, 29, 30, 31]]))"
      ]
     },
     "execution_count": 25,
     "metadata": {},
     "output_type": "execute_result"
    }
   ],
   "source": [
    "arr2 = arr.reshape(8,4)\n",
    "arr, arr2"
   ]
  },
  {
   "cell_type": "code",
   "execution_count": 26,
   "id": "92ae2509",
   "metadata": {},
   "outputs": [
    {
     "data": {
      "text/plain": [
       "(array([[ 0,  1,  2,  3],\n",
       "        [ 4,  5,  6,  7],\n",
       "        [ 8,  9, 10, 11],\n",
       "        [12, 13, 14, 15],\n",
       "        [16, 17, 18, 19],\n",
       "        [20, 21, 22, 23],\n",
       "        [24, 25, 26, 27],\n",
       "        [28, 29, 30, 31]]),\n",
       " array([[ 0,  4,  8, 12, 16, 20, 24, 28],\n",
       "        [ 1,  5,  9, 13, 17, 21, 25, 29],\n",
       "        [ 2,  6, 10, 14, 18, 22, 26, 30],\n",
       "        [ 3,  7, 11, 15, 19, 23, 27, 31]]))"
      ]
     },
     "execution_count": 26,
     "metadata": {},
     "output_type": "execute_result"
    }
   ],
   "source": [
    "arr3 = arr2.T # transpose\n",
    "arr2, arr3"
   ]
  },
  {
   "cell_type": "markdown",
   "id": "e3b9dfdb",
   "metadata": {},
   "source": [
    "## numpy has dot-arithmetic [array1].[array2]"
   ]
  },
  {
   "cell_type": "code",
   "execution_count": 27,
   "id": "91c9b278",
   "metadata": {},
   "outputs": [
    {
     "data": {
      "text/plain": [
       "array([[2240, 2352, 2464, 2576],\n",
       "       [2352, 2472, 2592, 2712],\n",
       "       [2464, 2592, 2720, 2848],\n",
       "       [2576, 2712, 2848, 2984]])"
      ]
     },
     "execution_count": 27,
     "metadata": {},
     "output_type": "execute_result"
    }
   ],
   "source": [
    "r = np.dot(arr2.T, arr2)\n",
    "r"
   ]
  },
  {
   "cell_type": "code",
   "execution_count": 28,
   "id": "85de647d",
   "metadata": {},
   "outputs": [
    {
     "data": {
      "text/plain": [
       "array([[ 70, 100],\n",
       "       [ 70, 100]])"
      ]
     },
     "execution_count": 28,
     "metadata": {},
     "output_type": "execute_result"
    }
   ],
   "source": [
    "# simpler example\n",
    "da = np.array([[1,2],[1,2]])\n",
    "db = np.array([[10,20],[30,40]])\n",
    "s = np.dot(da,db)\n",
    "s"
   ]
  },
  {
   "cell_type": "markdown",
   "id": "0813e693",
   "metadata": {},
   "source": [
    "## fast element-wise array funcs"
   ]
  },
  {
   "cell_type": "code",
   "execution_count": 29,
   "id": "6a2d0e62",
   "metadata": {},
   "outputs": [
    {
     "data": {
      "text/plain": [
       "array([0.    , 1.    , 1.4142, 1.7321, 2.    , 2.2361, 2.4495, 2.6458,\n",
       "       2.8284, 3.    ])"
      ]
     },
     "execution_count": 29,
     "metadata": {},
     "output_type": "execute_result"
    }
   ],
   "source": [
    "arr = np.arange(10)\n",
    "np.sqrt(arr)"
   ]
  },
  {
   "cell_type": "code",
   "execution_count": 30,
   "id": "dc76f2b5",
   "metadata": {},
   "outputs": [
    {
     "data": {
      "text/plain": [
       "4.5"
      ]
     },
     "execution_count": 30,
     "metadata": {},
     "output_type": "execute_result"
    }
   ],
   "source": [
    "np.median(arr) # median of 0,1,2,3,4,5,6,7,8,9 is 4.5"
   ]
  },
  {
   "cell_type": "code",
   "execution_count": 31,
   "id": "fc386753",
   "metadata": {},
   "outputs": [
    {
     "data": {
      "text/plain": [
       "(0, 9)"
      ]
     },
     "execution_count": 31,
     "metadata": {},
     "output_type": "execute_result"
    }
   ],
   "source": [
    "np.min(arr), np.max(arr)"
   ]
  },
  {
   "cell_type": "markdown",
   "id": "b995b1e3",
   "metadata": {},
   "source": [
    "# Array-Oriented Programming"
   ]
  },
  {
   "cell_type": "code",
   "execution_count": 32,
   "id": "3162bd84",
   "metadata": {},
   "outputs": [
    {
     "data": {
      "text/plain": [
       "((150, 5),\n",
       " array([[5.1, 3.5, 1.4, 0.2, nan],\n",
       "        [4.9, 3. , 1.4, 0.2, nan],\n",
       "        [4.7, 3.2, 1.3, 0.2, nan],\n",
       "        [4.6, 3.1, 1.5, 0.2, nan],\n",
       "        [5. , 3.6, 1.4, 0.2, nan],\n",
       "        [5.4, 3.9, 1.7, 0.4, nan],\n",
       "        [4.6, 3.4, 1.4, 0.3, nan],\n",
       "        [5. , 3.4, 1.5, 0.2, nan],\n",
       "        [4.4, 2.9, 1.4, 0.2, nan],\n",
       "        [4.9, 3.1, 1.5, 0.1, nan],\n",
       "        [5.4, 3.7, 1.5, 0.2, nan],\n",
       "        [4.8, 3.4, 1.6, 0.2, nan],\n",
       "        [4.8, 3. , 1.4, 0.1, nan],\n",
       "        [4.3, 3. , 1.1, 0.1, nan],\n",
       "        [5.8, 4. , 1.2, 0.2, nan],\n",
       "        [5.7, 4.4, 1.5, 0.4, nan],\n",
       "        [5.4, 3.9, 1.3, 0.4, nan],\n",
       "        [5.1, 3.5, 1.4, 0.3, nan],\n",
       "        [5.7, 3.8, 1.7, 0.3, nan],\n",
       "        [5.1, 3.8, 1.5, 0.3, nan],\n",
       "        [5.4, 3.4, 1.7, 0.2, nan],\n",
       "        [5.1, 3.7, 1.5, 0.4, nan],\n",
       "        [4.6, 3.6, 1. , 0.2, nan],\n",
       "        [5.1, 3.3, 1.7, 0.5, nan],\n",
       "        [4.8, 3.4, 1.9, 0.2, nan],\n",
       "        [5. , 3. , 1.6, 0.2, nan],\n",
       "        [5. , 3.4, 1.6, 0.4, nan],\n",
       "        [5.2, 3.5, 1.5, 0.2, nan],\n",
       "        [5.2, 3.4, 1.4, 0.2, nan],\n",
       "        [4.7, 3.2, 1.6, 0.2, nan],\n",
       "        [4.8, 3.1, 1.6, 0.2, nan],\n",
       "        [5.4, 3.4, 1.5, 0.4, nan],\n",
       "        [5.2, 4.1, 1.5, 0.1, nan],\n",
       "        [5.5, 4.2, 1.4, 0.2, nan],\n",
       "        [4.9, 3.1, 1.5, 0.1, nan],\n",
       "        [5. , 3.2, 1.2, 0.2, nan],\n",
       "        [5.5, 3.5, 1.3, 0.2, nan],\n",
       "        [4.9, 3.1, 1.5, 0.1, nan],\n",
       "        [4.4, 3. , 1.3, 0.2, nan],\n",
       "        [5.1, 3.4, 1.5, 0.2, nan],\n",
       "        [5. , 3.5, 1.3, 0.3, nan],\n",
       "        [4.5, 2.3, 1.3, 0.3, nan],\n",
       "        [4.4, 3.2, 1.3, 0.2, nan],\n",
       "        [5. , 3.5, 1.6, 0.6, nan],\n",
       "        [5.1, 3.8, 1.9, 0.4, nan],\n",
       "        [4.8, 3. , 1.4, 0.3, nan],\n",
       "        [5.1, 3.8, 1.6, 0.2, nan],\n",
       "        [4.6, 3.2, 1.4, 0.2, nan],\n",
       "        [5.3, 3.7, 1.5, 0.2, nan],\n",
       "        [5. , 3.3, 1.4, 0.2, nan],\n",
       "        [7. , 3.2, 4.7, 1.4, nan],\n",
       "        [6.4, 3.2, 4.5, 1.5, nan],\n",
       "        [6.9, 3.1, 4.9, 1.5, nan],\n",
       "        [5.5, 2.3, 4. , 1.3, nan],\n",
       "        [6.5, 2.8, 4.6, 1.5, nan],\n",
       "        [5.7, 2.8, 4.5, 1.3, nan],\n",
       "        [6.3, 3.3, 4.7, 1.6, nan],\n",
       "        [4.9, 2.4, 3.3, 1. , nan],\n",
       "        [6.6, 2.9, 4.6, 1.3, nan],\n",
       "        [5.2, 2.7, 3.9, 1.4, nan],\n",
       "        [5. , 2. , 3.5, 1. , nan],\n",
       "        [5.9, 3. , 4.2, 1.5, nan],\n",
       "        [6. , 2.2, 4. , 1. , nan],\n",
       "        [6.1, 2.9, 4.7, 1.4, nan],\n",
       "        [5.6, 2.9, 3.6, 1.3, nan],\n",
       "        [6.7, 3.1, 4.4, 1.4, nan],\n",
       "        [5.6, 3. , 4.5, 1.5, nan],\n",
       "        [5.8, 2.7, 4.1, 1. , nan],\n",
       "        [6.2, 2.2, 4.5, 1.5, nan],\n",
       "        [5.6, 2.5, 3.9, 1.1, nan],\n",
       "        [5.9, 3.2, 4.8, 1.8, nan],\n",
       "        [6.1, 2.8, 4. , 1.3, nan],\n",
       "        [6.3, 2.5, 4.9, 1.5, nan],\n",
       "        [6.1, 2.8, 4.7, 1.2, nan],\n",
       "        [6.4, 2.9, 4.3, 1.3, nan],\n",
       "        [6.6, 3. , 4.4, 1.4, nan],\n",
       "        [6.8, 2.8, 4.8, 1.4, nan],\n",
       "        [6.7, 3. , 5. , 1.7, nan],\n",
       "        [6. , 2.9, 4.5, 1.5, nan],\n",
       "        [5.7, 2.6, 3.5, 1. , nan],\n",
       "        [5.5, 2.4, 3.8, 1.1, nan],\n",
       "        [5.5, 2.4, 3.7, 1. , nan],\n",
       "        [5.8, 2.7, 3.9, 1.2, nan],\n",
       "        [6. , 2.7, 5.1, 1.6, nan],\n",
       "        [5.4, 3. , 4.5, 1.5, nan],\n",
       "        [6. , 3.4, 4.5, 1.6, nan],\n",
       "        [6.7, 3.1, 4.7, 1.5, nan],\n",
       "        [6.3, 2.3, 4.4, 1.3, nan],\n",
       "        [5.6, 3. , 4.1, 1.3, nan],\n",
       "        [5.5, 2.5, 4. , 1.3, nan],\n",
       "        [5.5, 2.6, 4.4, 1.2, nan],\n",
       "        [6.1, 3. , 4.6, 1.4, nan],\n",
       "        [5.8, 2.6, 4. , 1.2, nan],\n",
       "        [5. , 2.3, 3.3, 1. , nan],\n",
       "        [5.6, 2.7, 4.2, 1.3, nan],\n",
       "        [5.7, 3. , 4.2, 1.2, nan],\n",
       "        [5.7, 2.9, 4.2, 1.3, nan],\n",
       "        [6.2, 2.9, 4.3, 1.3, nan],\n",
       "        [5.1, 2.5, 3. , 1.1, nan],\n",
       "        [5.7, 2.8, 4.1, 1.3, nan],\n",
       "        [6.3, 3.3, 6. , 2.5, nan],\n",
       "        [5.8, 2.7, 5.1, 1.9, nan],\n",
       "        [7.1, 3. , 5.9, 2.1, nan],\n",
       "        [6.3, 2.9, 5.6, 1.8, nan],\n",
       "        [6.5, 3. , 5.8, 2.2, nan],\n",
       "        [7.6, 3. , 6.6, 2.1, nan],\n",
       "        [4.9, 2.5, 4.5, 1.7, nan],\n",
       "        [7.3, 2.9, 6.3, 1.8, nan],\n",
       "        [6.7, 2.5, 5.8, 1.8, nan],\n",
       "        [7.2, 3.6, 6.1, 2.5, nan],\n",
       "        [6.5, 3.2, 5.1, 2. , nan],\n",
       "        [6.4, 2.7, 5.3, 1.9, nan],\n",
       "        [6.8, 3. , 5.5, 2.1, nan],\n",
       "        [5.7, 2.5, 5. , 2. , nan],\n",
       "        [5.8, 2.8, 5.1, 2.4, nan],\n",
       "        [6.4, 3.2, 5.3, 2.3, nan],\n",
       "        [6.5, 3. , 5.5, 1.8, nan],\n",
       "        [7.7, 3.8, 6.7, 2.2, nan],\n",
       "        [7.7, 2.6, 6.9, 2.3, nan],\n",
       "        [6. , 2.2, 5. , 1.5, nan],\n",
       "        [6.9, 3.2, 5.7, 2.3, nan],\n",
       "        [5.6, 2.8, 4.9, 2. , nan],\n",
       "        [7.7, 2.8, 6.7, 2. , nan],\n",
       "        [6.3, 2.7, 4.9, 1.8, nan],\n",
       "        [6.7, 3.3, 5.7, 2.1, nan],\n",
       "        [7.2, 3.2, 6. , 1.8, nan],\n",
       "        [6.2, 2.8, 4.8, 1.8, nan],\n",
       "        [6.1, 3. , 4.9, 1.8, nan],\n",
       "        [6.4, 2.8, 5.6, 2.1, nan],\n",
       "        [7.2, 3. , 5.8, 1.6, nan],\n",
       "        [7.4, 2.8, 6.1, 1.9, nan],\n",
       "        [7.9, 3.8, 6.4, 2. , nan],\n",
       "        [6.4, 2.8, 5.6, 2.2, nan],\n",
       "        [6.3, 2.8, 5.1, 1.5, nan],\n",
       "        [6.1, 2.6, 5.6, 1.4, nan],\n",
       "        [7.7, 3. , 6.1, 2.3, nan],\n",
       "        [6.3, 3.4, 5.6, 2.4, nan],\n",
       "        [6.4, 3.1, 5.5, 1.8, nan],\n",
       "        [6. , 3. , 4.8, 1.8, nan],\n",
       "        [6.9, 3.1, 5.4, 2.1, nan],\n",
       "        [6.7, 3.1, 5.6, 2.4, nan],\n",
       "        [6.9, 3.1, 5.1, 2.3, nan],\n",
       "        [5.8, 2.7, 5.1, 1.9, nan],\n",
       "        [6.8, 3.2, 5.9, 2.3, nan],\n",
       "        [6.7, 3.3, 5.7, 2.5, nan],\n",
       "        [6.7, 3. , 5.2, 2.3, nan],\n",
       "        [6.3, 2.5, 5. , 1.9, nan],\n",
       "        [6.5, 3. , 5.2, 2. , nan],\n",
       "        [6.2, 3.4, 5.4, 2.3, nan],\n",
       "        [5.9, 3. , 5.1, 1.8, nan]]))"
      ]
     },
     "execution_count": 32,
     "metadata": {},
     "output_type": "execute_result"
    }
   ],
   "source": [
    "url = 'https://archive.ics.uci.edu/ml/machine-learning-databases/iris/iris.data'\n",
    "iris_2d = np.genfromtxt(url, delimiter=',')\n",
    "iris_2d.shape, iris_2d"
   ]
  },
  {
   "cell_type": "code",
   "execution_count": 33,
   "id": "20c47b5d",
   "metadata": {},
   "outputs": [],
   "source": [
    "# save this data locally\n",
    "np.save('iris_arr.npy', iris_2d) # saves it to where the notebook is saved"
   ]
  },
  {
   "cell_type": "code",
   "execution_count": 34,
   "id": "bce66dc8",
   "metadata": {},
   "outputs": [
    {
     "data": {
      "text/plain": [
       "array([[5.1, 3.5, 1.4, 0.2, nan],\n",
       "       [4.9, 3. , 1.4, 0.2, nan],\n",
       "       [4.7, 3.2, 1.3, 0.2, nan],\n",
       "       [4.6, 3.1, 1.5, 0.2, nan],\n",
       "       [5. , 3.6, 1.4, 0.2, nan],\n",
       "       [5.4, 3.9, 1.7, 0.4, nan],\n",
       "       [4.6, 3.4, 1.4, 0.3, nan],\n",
       "       [5. , 3.4, 1.5, 0.2, nan],\n",
       "       [4.4, 2.9, 1.4, 0.2, nan],\n",
       "       [4.9, 3.1, 1.5, 0.1, nan],\n",
       "       [5.4, 3.7, 1.5, 0.2, nan],\n",
       "       [4.8, 3.4, 1.6, 0.2, nan],\n",
       "       [4.8, 3. , 1.4, 0.1, nan],\n",
       "       [4.3, 3. , 1.1, 0.1, nan],\n",
       "       [5.8, 4. , 1.2, 0.2, nan],\n",
       "       [5.7, 4.4, 1.5, 0.4, nan],\n",
       "       [5.4, 3.9, 1.3, 0.4, nan],\n",
       "       [5.1, 3.5, 1.4, 0.3, nan],\n",
       "       [5.7, 3.8, 1.7, 0.3, nan],\n",
       "       [5.1, 3.8, 1.5, 0.3, nan],\n",
       "       [5.4, 3.4, 1.7, 0.2, nan],\n",
       "       [5.1, 3.7, 1.5, 0.4, nan],\n",
       "       [4.6, 3.6, 1. , 0.2, nan],\n",
       "       [5.1, 3.3, 1.7, 0.5, nan],\n",
       "       [4.8, 3.4, 1.9, 0.2, nan],\n",
       "       [5. , 3. , 1.6, 0.2, nan],\n",
       "       [5. , 3.4, 1.6, 0.4, nan],\n",
       "       [5.2, 3.5, 1.5, 0.2, nan],\n",
       "       [5.2, 3.4, 1.4, 0.2, nan],\n",
       "       [4.7, 3.2, 1.6, 0.2, nan],\n",
       "       [4.8, 3.1, 1.6, 0.2, nan],\n",
       "       [5.4, 3.4, 1.5, 0.4, nan],\n",
       "       [5.2, 4.1, 1.5, 0.1, nan],\n",
       "       [5.5, 4.2, 1.4, 0.2, nan],\n",
       "       [4.9, 3.1, 1.5, 0.1, nan],\n",
       "       [5. , 3.2, 1.2, 0.2, nan],\n",
       "       [5.5, 3.5, 1.3, 0.2, nan],\n",
       "       [4.9, 3.1, 1.5, 0.1, nan],\n",
       "       [4.4, 3. , 1.3, 0.2, nan],\n",
       "       [5.1, 3.4, 1.5, 0.2, nan],\n",
       "       [5. , 3.5, 1.3, 0.3, nan],\n",
       "       [4.5, 2.3, 1.3, 0.3, nan],\n",
       "       [4.4, 3.2, 1.3, 0.2, nan],\n",
       "       [5. , 3.5, 1.6, 0.6, nan],\n",
       "       [5.1, 3.8, 1.9, 0.4, nan],\n",
       "       [4.8, 3. , 1.4, 0.3, nan],\n",
       "       [5.1, 3.8, 1.6, 0.2, nan],\n",
       "       [4.6, 3.2, 1.4, 0.2, nan],\n",
       "       [5.3, 3.7, 1.5, 0.2, nan],\n",
       "       [5. , 3.3, 1.4, 0.2, nan],\n",
       "       [7. , 3.2, 4.7, 1.4, nan],\n",
       "       [6.4, 3.2, 4.5, 1.5, nan],\n",
       "       [6.9, 3.1, 4.9, 1.5, nan],\n",
       "       [5.5, 2.3, 4. , 1.3, nan],\n",
       "       [6.5, 2.8, 4.6, 1.5, nan],\n",
       "       [5.7, 2.8, 4.5, 1.3, nan],\n",
       "       [6.3, 3.3, 4.7, 1.6, nan],\n",
       "       [4.9, 2.4, 3.3, 1. , nan],\n",
       "       [6.6, 2.9, 4.6, 1.3, nan],\n",
       "       [5.2, 2.7, 3.9, 1.4, nan],\n",
       "       [5. , 2. , 3.5, 1. , nan],\n",
       "       [5.9, 3. , 4.2, 1.5, nan],\n",
       "       [6. , 2.2, 4. , 1. , nan],\n",
       "       [6.1, 2.9, 4.7, 1.4, nan],\n",
       "       [5.6, 2.9, 3.6, 1.3, nan],\n",
       "       [6.7, 3.1, 4.4, 1.4, nan],\n",
       "       [5.6, 3. , 4.5, 1.5, nan],\n",
       "       [5.8, 2.7, 4.1, 1. , nan],\n",
       "       [6.2, 2.2, 4.5, 1.5, nan],\n",
       "       [5.6, 2.5, 3.9, 1.1, nan],\n",
       "       [5.9, 3.2, 4.8, 1.8, nan],\n",
       "       [6.1, 2.8, 4. , 1.3, nan],\n",
       "       [6.3, 2.5, 4.9, 1.5, nan],\n",
       "       [6.1, 2.8, 4.7, 1.2, nan],\n",
       "       [6.4, 2.9, 4.3, 1.3, nan],\n",
       "       [6.6, 3. , 4.4, 1.4, nan],\n",
       "       [6.8, 2.8, 4.8, 1.4, nan],\n",
       "       [6.7, 3. , 5. , 1.7, nan],\n",
       "       [6. , 2.9, 4.5, 1.5, nan],\n",
       "       [5.7, 2.6, 3.5, 1. , nan],\n",
       "       [5.5, 2.4, 3.8, 1.1, nan],\n",
       "       [5.5, 2.4, 3.7, 1. , nan],\n",
       "       [5.8, 2.7, 3.9, 1.2, nan],\n",
       "       [6. , 2.7, 5.1, 1.6, nan],\n",
       "       [5.4, 3. , 4.5, 1.5, nan],\n",
       "       [6. , 3.4, 4.5, 1.6, nan],\n",
       "       [6.7, 3.1, 4.7, 1.5, nan],\n",
       "       [6.3, 2.3, 4.4, 1.3, nan],\n",
       "       [5.6, 3. , 4.1, 1.3, nan],\n",
       "       [5.5, 2.5, 4. , 1.3, nan],\n",
       "       [5.5, 2.6, 4.4, 1.2, nan],\n",
       "       [6.1, 3. , 4.6, 1.4, nan],\n",
       "       [5.8, 2.6, 4. , 1.2, nan],\n",
       "       [5. , 2.3, 3.3, 1. , nan],\n",
       "       [5.6, 2.7, 4.2, 1.3, nan],\n",
       "       [5.7, 3. , 4.2, 1.2, nan],\n",
       "       [5.7, 2.9, 4.2, 1.3, nan],\n",
       "       [6.2, 2.9, 4.3, 1.3, nan],\n",
       "       [5.1, 2.5, 3. , 1.1, nan],\n",
       "       [5.7, 2.8, 4.1, 1.3, nan],\n",
       "       [6.3, 3.3, 6. , 2.5, nan],\n",
       "       [5.8, 2.7, 5.1, 1.9, nan],\n",
       "       [7.1, 3. , 5.9, 2.1, nan],\n",
       "       [6.3, 2.9, 5.6, 1.8, nan],\n",
       "       [6.5, 3. , 5.8, 2.2, nan],\n",
       "       [7.6, 3. , 6.6, 2.1, nan],\n",
       "       [4.9, 2.5, 4.5, 1.7, nan],\n",
       "       [7.3, 2.9, 6.3, 1.8, nan],\n",
       "       [6.7, 2.5, 5.8, 1.8, nan],\n",
       "       [7.2, 3.6, 6.1, 2.5, nan],\n",
       "       [6.5, 3.2, 5.1, 2. , nan],\n",
       "       [6.4, 2.7, 5.3, 1.9, nan],\n",
       "       [6.8, 3. , 5.5, 2.1, nan],\n",
       "       [5.7, 2.5, 5. , 2. , nan],\n",
       "       [5.8, 2.8, 5.1, 2.4, nan],\n",
       "       [6.4, 3.2, 5.3, 2.3, nan],\n",
       "       [6.5, 3. , 5.5, 1.8, nan],\n",
       "       [7.7, 3.8, 6.7, 2.2, nan],\n",
       "       [7.7, 2.6, 6.9, 2.3, nan],\n",
       "       [6. , 2.2, 5. , 1.5, nan],\n",
       "       [6.9, 3.2, 5.7, 2.3, nan],\n",
       "       [5.6, 2.8, 4.9, 2. , nan],\n",
       "       [7.7, 2.8, 6.7, 2. , nan],\n",
       "       [6.3, 2.7, 4.9, 1.8, nan],\n",
       "       [6.7, 3.3, 5.7, 2.1, nan],\n",
       "       [7.2, 3.2, 6. , 1.8, nan],\n",
       "       [6.2, 2.8, 4.8, 1.8, nan],\n",
       "       [6.1, 3. , 4.9, 1.8, nan],\n",
       "       [6.4, 2.8, 5.6, 2.1, nan],\n",
       "       [7.2, 3. , 5.8, 1.6, nan],\n",
       "       [7.4, 2.8, 6.1, 1.9, nan],\n",
       "       [7.9, 3.8, 6.4, 2. , nan],\n",
       "       [6.4, 2.8, 5.6, 2.2, nan],\n",
       "       [6.3, 2.8, 5.1, 1.5, nan],\n",
       "       [6.1, 2.6, 5.6, 1.4, nan],\n",
       "       [7.7, 3. , 6.1, 2.3, nan],\n",
       "       [6.3, 3.4, 5.6, 2.4, nan],\n",
       "       [6.4, 3.1, 5.5, 1.8, nan],\n",
       "       [6. , 3. , 4.8, 1.8, nan],\n",
       "       [6.9, 3.1, 5.4, 2.1, nan],\n",
       "       [6.7, 3.1, 5.6, 2.4, nan],\n",
       "       [6.9, 3.1, 5.1, 2.3, nan],\n",
       "       [5.8, 2.7, 5.1, 1.9, nan],\n",
       "       [6.8, 3.2, 5.9, 2.3, nan],\n",
       "       [6.7, 3.3, 5.7, 2.5, nan],\n",
       "       [6.7, 3. , 5.2, 2.3, nan],\n",
       "       [6.3, 2.5, 5. , 1.9, nan],\n",
       "       [6.5, 3. , 5.2, 2. , nan],\n",
       "       [6.2, 3.4, 5.4, 2.3, nan],\n",
       "       [5.9, 3. , 5.1, 1.8, nan]])"
      ]
     },
     "execution_count": 34,
     "metadata": {},
     "output_type": "execute_result"
    }
   ],
   "source": [
    "retrieved = np.load('iris_arr.npy')\n",
    "retrieved"
   ]
  },
  {
   "cell_type": "code",
   "execution_count": 35,
   "id": "46bbd7bd",
   "metadata": {},
   "outputs": [],
   "source": [
    "# we may choose to compress the data\n",
    "np.savez_compressed('iris_compressed.npz',i=iris_2d)"
   ]
  },
  {
   "cell_type": "code",
   "execution_count": 36,
   "id": "696e4ca0",
   "metadata": {},
   "outputs": [
    {
     "data": {
      "text/plain": [
       "array([[5.1, 3.5, 1.4, 0.2, nan],\n",
       "       [4.9, 3. , 1.4, 0.2, nan],\n",
       "       [4.7, 3.2, 1.3, 0.2, nan],\n",
       "       [4.6, 3.1, 1.5, 0.2, nan],\n",
       "       [5. , 3.6, 1.4, 0.2, nan],\n",
       "       [5.4, 3.9, 1.7, 0.4, nan],\n",
       "       [4.6, 3.4, 1.4, 0.3, nan],\n",
       "       [5. , 3.4, 1.5, 0.2, nan],\n",
       "       [4.4, 2.9, 1.4, 0.2, nan],\n",
       "       [4.9, 3.1, 1.5, 0.1, nan],\n",
       "       [5.4, 3.7, 1.5, 0.2, nan],\n",
       "       [4.8, 3.4, 1.6, 0.2, nan],\n",
       "       [4.8, 3. , 1.4, 0.1, nan],\n",
       "       [4.3, 3. , 1.1, 0.1, nan],\n",
       "       [5.8, 4. , 1.2, 0.2, nan],\n",
       "       [5.7, 4.4, 1.5, 0.4, nan],\n",
       "       [5.4, 3.9, 1.3, 0.4, nan],\n",
       "       [5.1, 3.5, 1.4, 0.3, nan],\n",
       "       [5.7, 3.8, 1.7, 0.3, nan],\n",
       "       [5.1, 3.8, 1.5, 0.3, nan],\n",
       "       [5.4, 3.4, 1.7, 0.2, nan],\n",
       "       [5.1, 3.7, 1.5, 0.4, nan],\n",
       "       [4.6, 3.6, 1. , 0.2, nan],\n",
       "       [5.1, 3.3, 1.7, 0.5, nan],\n",
       "       [4.8, 3.4, 1.9, 0.2, nan],\n",
       "       [5. , 3. , 1.6, 0.2, nan],\n",
       "       [5. , 3.4, 1.6, 0.4, nan],\n",
       "       [5.2, 3.5, 1.5, 0.2, nan],\n",
       "       [5.2, 3.4, 1.4, 0.2, nan],\n",
       "       [4.7, 3.2, 1.6, 0.2, nan],\n",
       "       [4.8, 3.1, 1.6, 0.2, nan],\n",
       "       [5.4, 3.4, 1.5, 0.4, nan],\n",
       "       [5.2, 4.1, 1.5, 0.1, nan],\n",
       "       [5.5, 4.2, 1.4, 0.2, nan],\n",
       "       [4.9, 3.1, 1.5, 0.1, nan],\n",
       "       [5. , 3.2, 1.2, 0.2, nan],\n",
       "       [5.5, 3.5, 1.3, 0.2, nan],\n",
       "       [4.9, 3.1, 1.5, 0.1, nan],\n",
       "       [4.4, 3. , 1.3, 0.2, nan],\n",
       "       [5.1, 3.4, 1.5, 0.2, nan],\n",
       "       [5. , 3.5, 1.3, 0.3, nan],\n",
       "       [4.5, 2.3, 1.3, 0.3, nan],\n",
       "       [4.4, 3.2, 1.3, 0.2, nan],\n",
       "       [5. , 3.5, 1.6, 0.6, nan],\n",
       "       [5.1, 3.8, 1.9, 0.4, nan],\n",
       "       [4.8, 3. , 1.4, 0.3, nan],\n",
       "       [5.1, 3.8, 1.6, 0.2, nan],\n",
       "       [4.6, 3.2, 1.4, 0.2, nan],\n",
       "       [5.3, 3.7, 1.5, 0.2, nan],\n",
       "       [5. , 3.3, 1.4, 0.2, nan],\n",
       "       [7. , 3.2, 4.7, 1.4, nan],\n",
       "       [6.4, 3.2, 4.5, 1.5, nan],\n",
       "       [6.9, 3.1, 4.9, 1.5, nan],\n",
       "       [5.5, 2.3, 4. , 1.3, nan],\n",
       "       [6.5, 2.8, 4.6, 1.5, nan],\n",
       "       [5.7, 2.8, 4.5, 1.3, nan],\n",
       "       [6.3, 3.3, 4.7, 1.6, nan],\n",
       "       [4.9, 2.4, 3.3, 1. , nan],\n",
       "       [6.6, 2.9, 4.6, 1.3, nan],\n",
       "       [5.2, 2.7, 3.9, 1.4, nan],\n",
       "       [5. , 2. , 3.5, 1. , nan],\n",
       "       [5.9, 3. , 4.2, 1.5, nan],\n",
       "       [6. , 2.2, 4. , 1. , nan],\n",
       "       [6.1, 2.9, 4.7, 1.4, nan],\n",
       "       [5.6, 2.9, 3.6, 1.3, nan],\n",
       "       [6.7, 3.1, 4.4, 1.4, nan],\n",
       "       [5.6, 3. , 4.5, 1.5, nan],\n",
       "       [5.8, 2.7, 4.1, 1. , nan],\n",
       "       [6.2, 2.2, 4.5, 1.5, nan],\n",
       "       [5.6, 2.5, 3.9, 1.1, nan],\n",
       "       [5.9, 3.2, 4.8, 1.8, nan],\n",
       "       [6.1, 2.8, 4. , 1.3, nan],\n",
       "       [6.3, 2.5, 4.9, 1.5, nan],\n",
       "       [6.1, 2.8, 4.7, 1.2, nan],\n",
       "       [6.4, 2.9, 4.3, 1.3, nan],\n",
       "       [6.6, 3. , 4.4, 1.4, nan],\n",
       "       [6.8, 2.8, 4.8, 1.4, nan],\n",
       "       [6.7, 3. , 5. , 1.7, nan],\n",
       "       [6. , 2.9, 4.5, 1.5, nan],\n",
       "       [5.7, 2.6, 3.5, 1. , nan],\n",
       "       [5.5, 2.4, 3.8, 1.1, nan],\n",
       "       [5.5, 2.4, 3.7, 1. , nan],\n",
       "       [5.8, 2.7, 3.9, 1.2, nan],\n",
       "       [6. , 2.7, 5.1, 1.6, nan],\n",
       "       [5.4, 3. , 4.5, 1.5, nan],\n",
       "       [6. , 3.4, 4.5, 1.6, nan],\n",
       "       [6.7, 3.1, 4.7, 1.5, nan],\n",
       "       [6.3, 2.3, 4.4, 1.3, nan],\n",
       "       [5.6, 3. , 4.1, 1.3, nan],\n",
       "       [5.5, 2.5, 4. , 1.3, nan],\n",
       "       [5.5, 2.6, 4.4, 1.2, nan],\n",
       "       [6.1, 3. , 4.6, 1.4, nan],\n",
       "       [5.8, 2.6, 4. , 1.2, nan],\n",
       "       [5. , 2.3, 3.3, 1. , nan],\n",
       "       [5.6, 2.7, 4.2, 1.3, nan],\n",
       "       [5.7, 3. , 4.2, 1.2, nan],\n",
       "       [5.7, 2.9, 4.2, 1.3, nan],\n",
       "       [6.2, 2.9, 4.3, 1.3, nan],\n",
       "       [5.1, 2.5, 3. , 1.1, nan],\n",
       "       [5.7, 2.8, 4.1, 1.3, nan],\n",
       "       [6.3, 3.3, 6. , 2.5, nan],\n",
       "       [5.8, 2.7, 5.1, 1.9, nan],\n",
       "       [7.1, 3. , 5.9, 2.1, nan],\n",
       "       [6.3, 2.9, 5.6, 1.8, nan],\n",
       "       [6.5, 3. , 5.8, 2.2, nan],\n",
       "       [7.6, 3. , 6.6, 2.1, nan],\n",
       "       [4.9, 2.5, 4.5, 1.7, nan],\n",
       "       [7.3, 2.9, 6.3, 1.8, nan],\n",
       "       [6.7, 2.5, 5.8, 1.8, nan],\n",
       "       [7.2, 3.6, 6.1, 2.5, nan],\n",
       "       [6.5, 3.2, 5.1, 2. , nan],\n",
       "       [6.4, 2.7, 5.3, 1.9, nan],\n",
       "       [6.8, 3. , 5.5, 2.1, nan],\n",
       "       [5.7, 2.5, 5. , 2. , nan],\n",
       "       [5.8, 2.8, 5.1, 2.4, nan],\n",
       "       [6.4, 3.2, 5.3, 2.3, nan],\n",
       "       [6.5, 3. , 5.5, 1.8, nan],\n",
       "       [7.7, 3.8, 6.7, 2.2, nan],\n",
       "       [7.7, 2.6, 6.9, 2.3, nan],\n",
       "       [6. , 2.2, 5. , 1.5, nan],\n",
       "       [6.9, 3.2, 5.7, 2.3, nan],\n",
       "       [5.6, 2.8, 4.9, 2. , nan],\n",
       "       [7.7, 2.8, 6.7, 2. , nan],\n",
       "       [6.3, 2.7, 4.9, 1.8, nan],\n",
       "       [6.7, 3.3, 5.7, 2.1, nan],\n",
       "       [7.2, 3.2, 6. , 1.8, nan],\n",
       "       [6.2, 2.8, 4.8, 1.8, nan],\n",
       "       [6.1, 3. , 4.9, 1.8, nan],\n",
       "       [6.4, 2.8, 5.6, 2.1, nan],\n",
       "       [7.2, 3. , 5.8, 1.6, nan],\n",
       "       [7.4, 2.8, 6.1, 1.9, nan],\n",
       "       [7.9, 3.8, 6.4, 2. , nan],\n",
       "       [6.4, 2.8, 5.6, 2.2, nan],\n",
       "       [6.3, 2.8, 5.1, 1.5, nan],\n",
       "       [6.1, 2.6, 5.6, 1.4, nan],\n",
       "       [7.7, 3. , 6.1, 2.3, nan],\n",
       "       [6.3, 3.4, 5.6, 2.4, nan],\n",
       "       [6.4, 3.1, 5.5, 1.8, nan],\n",
       "       [6. , 3. , 4.8, 1.8, nan],\n",
       "       [6.9, 3.1, 5.4, 2.1, nan],\n",
       "       [6.7, 3.1, 5.6, 2.4, nan],\n",
       "       [6.9, 3.1, 5.1, 2.3, nan],\n",
       "       [5.8, 2.7, 5.1, 1.9, nan],\n",
       "       [6.8, 3.2, 5.9, 2.3, nan],\n",
       "       [6.7, 3.3, 5.7, 2.5, nan],\n",
       "       [6.7, 3. , 5.2, 2.3, nan],\n",
       "       [6.3, 2.5, 5. , 1.9, nan],\n",
       "       [6.5, 3. , 5.2, 2. , nan],\n",
       "       [6.2, 3.4, 5.4, 2.3, nan],\n",
       "       [5.9, 3. , 5.1, 1.8, nan]])"
      ]
     },
     "execution_count": 36,
     "metadata": {},
     "output_type": "execute_result"
    }
   ],
   "source": [
    "ret_compr = np.load('iris_compressed.npz')\n",
    "ret_compr['i']"
   ]
  },
  {
   "cell_type": "code",
   "execution_count": 37,
   "id": "87ba25a6",
   "metadata": {},
   "outputs": [
    {
     "name": "stdout",
     "output_type": "stream",
     "text": [
      "C:\\Users\\etusmat\\OneDrive - Ericsson AB\\Share\\Ericsson\\pybeyond\\jupyter\\iris_compressed.npz\n"
     ]
    },
    {
     "name": "stderr",
     "output_type": "stream",
     "text": [
      "The process cannot access the file because it is being used by another process.\n"
     ]
    }
   ],
   "source": [
    "!del iris_compressed.npz"
   ]
  },
  {
   "cell_type": "markdown",
   "id": "705a51c2",
   "metadata": {},
   "source": [
    "# Data visualization with numpy (and MatPlotLib)"
   ]
  },
  {
   "cell_type": "code",
   "execution_count": 39,
   "id": "0e1716c5",
   "metadata": {},
   "outputs": [
    {
     "data": {
      "text/plain": [
       "array([0.5, 0.7, 1. , 1.2, 1.3, 2.1])"
      ]
     },
     "execution_count": 39,
     "metadata": {},
     "output_type": "execute_result"
    }
   ],
   "source": [
    "nums = np.array([0.5, 0.7, 1.0, 1.2, 1.3, 2.1])\n",
    "nums"
   ]
  },
  {
   "cell_type": "code",
   "execution_count": 46,
   "id": "e127744a",
   "metadata": {},
   "outputs": [],
   "source": [
    "grpbins = np.array([-1,0,1,2,3]) # bins to group my numbers"
   ]
  },
  {
   "cell_type": "code",
   "execution_count": 47,
   "id": "9c2c105a",
   "metadata": {},
   "outputs": [],
   "source": [
    "# we need MatPlotLib to plot charts\n",
    "import matplotlib.pyplot as plt"
   ]
  },
  {
   "cell_type": "code",
   "execution_count": 48,
   "id": "d4bd7e75",
   "metadata": {},
   "outputs": [
    {
     "data": {
      "text/plain": [
       "(array([0., 2., 3., 1.]),\n",
       " array([-1,  0,  1,  2,  3]),\n",
       " <BarContainer object of 4 artists>)"
      ]
     },
     "execution_count": 48,
     "metadata": {},
     "output_type": "execute_result"
    },
    {
     "data": {
      "image/png": "[encoded data removed]",
      "text/plain": [
       "<Figure size 432x288 with 1 Axes>"
      ]
     },
     "metadata": {
      "needs_background": "light"
     },
     "output_type": "display_data"
    }
   ],
   "source": [
    "# plot a histogram using bins\n",
    "plt.hist(nums, bins=grpbins)"
   ]
  },
  {
   "cell_type": "code",
   "execution_count": 50,
   "id": "56eb45f5",
   "metadata": {},
   "outputs": [
    {
     "name": "stdout",
     "output_type": "stream",
     "text": [
      "Wall time: 2.37 s\n"
     ]
    }
   ],
   "source": [
    "# some complex plotting\n",
    "points = np.arange(-5,5,0.001)\n",
    "points\n",
    "xs, ys = np.meshgrid(points, points) # 2d array of all our points\n",
    "%time z = np.sqrt(xs**2 + ys**2)"
   ]
  },
  {
   "cell_type": "code",
   "execution_count": 51,
   "id": "6c39bf43",
   "metadata": {},
   "outputs": [
    {
     "data": {
      "text/plain": [
       "<matplotlib.colorbar.Colorbar at 0x14120cd8bb0>"
      ]
     },
     "execution_count": 51,
     "metadata": {},
     "output_type": "execute_result"
    },
    {
     "data": {
      "image/png": "[encoded data removed]",
      "text/plain": [
       "<Figure size 432x288 with 2 Axes>"
      ]
     },
     "metadata": {
      "needs_background": "light"
     },
     "output_type": "display_data"
    }
   ],
   "source": [
    "plt.imshow(z, cmap=plt.cm.Blues)\n",
    "plt.colorbar()"
   ]
  },
  {
   "cell_type": "code",
   "execution_count": null,
   "id": "b7d5ee17",
   "metadata": {},
   "outputs": [],
   "source": []
  }
 ],
 "metadata": {
  "kernelspec": {
   "display_name": "Python 3",
   "language": "python",
   "name": "python3"
  },
  "language_info": {
   "codemirror_mode": {
    "name": "ipython",
    "version": 3
   },
   "file_extension": ".py",
   "mimetype": "text/x-python",
   "name": "python",
   "nbconvert_exporter": "python",
   "pygments_lexer": "ipython3",
   "version": "3.8.8"
  }
 },
 "nbformat": 4,
 "nbformat_minor": 5
}
